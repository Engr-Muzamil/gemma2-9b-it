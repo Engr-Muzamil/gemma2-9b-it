{
 "cells": [
  {
   "cell_type": "code",
   "execution_count": 3,
   "id": "ee1dcd79",
   "metadata": {},
   "outputs": [
    {
     "data": {
      "text/plain": [
       "'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'"
      ]
     },
     "execution_count": 3,
     "metadata": {},
     "output_type": "execute_result"
    }
   ],
   "source": [
    "import os \n",
    "from dotenv import load_dotenv\n",
    "load_dotenv()\n",
    "groq_api= os.getenv('Groq_api_key')\n",
    "\n",
    "groq_api"
   ]
  },
  {
   "cell_type": "code",
   "execution_count": 4,
   "id": "8d1a68d1",
   "metadata": {},
   "outputs": [
    {
     "data": {
      "text/plain": [
       "ChatGroq(client=<groq.resources.chat.completions.Completions object at 0x000001CECB90C710>, async_client=<groq.resources.chat.completions.AsyncCompletions object at 0x000001CECB90D310>, model_name='gemma2-9b-it', model_kwargs={}, groq_api_key=SecretStr('**********'))"
      ]
     },
     "execution_count": 4,
     "metadata": {},
     "output_type": "execute_result"
    }
   ],
   "source": [
    "from langchain_groq import ChatGroq\n",
    "model= ChatGroq(model= 'gemma2-9b-it', groq_api_key= groq_api)\n",
    "model"
   ]
  },
  {
   "cell_type": "code",
   "execution_count": 5,
   "id": "144f62d5",
   "metadata": {},
   "outputs": [
    {
     "data": {
      "text/plain": [
       "AIMessage(content=\"Hi Muzamil, I am Gemma, an AI assistant. It's nice to meet you! 😊\\n\", additional_kwargs={}, response_metadata={'token_usage': {'completion_tokens': 25, 'prompt_tokens': 22, 'total_tokens': 47, 'completion_time': 0.045454545, 'prompt_time': 0.00132878, 'queue_time': 0.247280979, 'total_time': 0.046783325}, 'model_name': 'gemma2-9b-it', 'system_fingerprint': 'fp_10c08bf97d', 'service_tier': 'on_demand', 'finish_reason': 'stop', 'logprobs': None}, id='run--d85db7b2-c86c-478b-ad58-fc25a9827ce3-0', usage_metadata={'input_tokens': 22, 'output_tokens': 25, 'total_tokens': 47})"
      ]
     },
     "execution_count": 5,
     "metadata": {},
     "output_type": "execute_result"
    }
   ],
   "source": [
    "from langchain_core.messages import HumanMessage\n",
    "model.invoke([HumanMessage(content= \"Hi My name is Muzamil, what is your name?\")])\n"
   ]
  },
  {
   "cell_type": "code",
   "execution_count": 6,
   "id": "fa8b125d",
   "metadata": {},
   "outputs": [
    {
     "data": {
      "text/plain": [
       "AIMessage(content=\"As an AI, I have no memory of past conversations or personal information about you, including your name. If you'd like to tell me your name, I'm happy to know!\\n\", additional_kwargs={}, response_metadata={'token_usage': {'completion_tokens': 42, 'prompt_tokens': 15, 'total_tokens': 57, 'completion_time': 0.076363636, 'prompt_time': 0.001249689, 'queue_time': 0.257719751, 'total_time': 0.077613325}, 'model_name': 'gemma2-9b-it', 'system_fingerprint': 'fp_10c08bf97d', 'service_tier': 'on_demand', 'finish_reason': 'stop', 'logprobs': None}, id='run--fa47b35c-ee81-4d60-a2cc-ca8cee03b599-0', usage_metadata={'input_tokens': 15, 'output_tokens': 42, 'total_tokens': 57})"
      ]
     },
     "execution_count": 6,
     "metadata": {},
     "output_type": "execute_result"
    }
   ],
   "source": [
    "model.invoke([HumanMessage(content= 'Do you know my name?')])"
   ]
  },
  {
   "cell_type": "code",
   "execution_count": 7,
   "id": "857077ac",
   "metadata": {},
   "outputs": [
    {
     "data": {
      "text/plain": [
       "AIMessage(content=\"Yes, you introduced yourself as Malik earlier! 😊  It's nice to know your name.  Is there anything I can help you with, Malik?\\n\", additional_kwargs={}, response_metadata={'token_usage': {'completion_tokens': 35, 'prompt_tokens': 62, 'total_tokens': 97, 'completion_time': 0.063636364, 'prompt_time': 0.002273089, 'queue_time': 0.25155044, 'total_time': 0.065909453}, 'model_name': 'gemma2-9b-it', 'system_fingerprint': 'fp_10c08bf97d', 'service_tier': 'on_demand', 'finish_reason': 'stop', 'logprobs': None}, id='run--b9f225c5-8f36-4ac7-a9fd-5735acfebec2-0', usage_metadata={'input_tokens': 62, 'output_tokens': 35, 'total_tokens': 97})"
      ]
     },
     "execution_count": 7,
     "metadata": {},
     "output_type": "execute_result"
    }
   ],
   "source": [
    "#Hum ye karte hain taake model ko puri baat yaad rahe aur wo naturally jawab de.\n",
    "from langchain_core.messages import AIMessage\n",
    "\n",
    "model.invoke(\n",
    "    [\n",
    "        HumanMessage(content=\"Hi My name is malik what is your name?\"),\n",
    "        AIMessage(content=\"Hi Malik, my name is Gemma. 👋It's nice to meet you! 😊 What can I do for you today?\"),\n",
    "        HumanMessage(content=\"Do you know my name?\")\n",
    "    ]\n",
    ")"
   ]
  },
  {
   "cell_type": "code",
   "execution_count": 8,
   "id": "5a48d76a",
   "metadata": {},
   "outputs": [],
   "source": [
    "from langchain_community.chat_message_histories import ChatMessageHistory\n",
    "from langchain_core.chat_history import BaseChatMessageHistory\n",
    "from langchain_core.runnables.history import RunnableWithMessageHistory\n",
    "store= {}\n",
    "def get_session_history(session_id: str) -> BaseChatMessageHistory:\n",
    "    if session_id not in store:\n",
    "        store[session_id]= ChatMessageHistory()\n",
    "    return store[session_id]\n",
    "with_message_history = RunnableWithMessageHistory(model,get_session_history=get_session_history)"
   ]
  },
  {
   "cell_type": "code",
   "execution_count": 9,
   "id": "db32ac20",
   "metadata": {},
   "outputs": [],
   "source": [
    "config = {\"configurable\":{\"session_id\":\"Muzamil\"}}"
   ]
  },
  {
   "cell_type": "code",
   "execution_count": 10,
   "id": "72a2effd",
   "metadata": {},
   "outputs": [],
   "source": [
    "response = with_message_history.invoke (\n",
    "    HumanMessage(content=\"Hi My name is Muzamil what is your name?\"),\n",
    "    config=config\n",
    ")"
   ]
  },
  {
   "cell_type": "code",
   "execution_count": null,
   "id": "84a86d7a",
   "metadata": {},
   "outputs": [],
   "source": []
  }
 ],
 "metadata": {
  "kernelspec": {
   "display_name": "chat",
   "language": "python",
   "name": "python3"
  },
  "language_info": {
   "codemirror_mode": {
    "name": "ipython",
    "version": 3
   },
   "file_extension": ".py",
   "mimetype": "text/x-python",
   "name": "python",
   "nbconvert_exporter": "python",
   "pygments_lexer": "ipython3",
   "version": "3.11.9"
  }
 },
 "nbformat": 4,
 "nbformat_minor": 5
}
